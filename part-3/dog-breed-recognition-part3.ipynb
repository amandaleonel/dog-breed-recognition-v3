{
 "cells": [
  {
   "cell_type": "code",
   "execution_count": 1,
   "id": "b2f36204",
   "metadata": {
    "_cell_guid": "8e51cb4e-fdd1-412d-a3db-699789576597",
    "_uuid": "f84c09de-c7d0-4492-9397-35492846c0eb",
    "collapsed": false,
    "execution": {
     "iopub.execute_input": "2021-09-10T08:26:44.975744Z",
     "iopub.status.busy": "2021-09-10T08:26:44.974989Z",
     "iopub.status.idle": "2021-09-10T08:26:49.773130Z",
     "shell.execute_reply": "2021-09-10T08:26:49.772468Z"
    },
    "jupyter": {
     "outputs_hidden": false
    },
    "papermill": {
     "duration": 4.891087,
     "end_time": "2021-09-10T08:26:49.773328",
     "exception": false,
     "start_time": "2021-09-10T08:26:44.882241",
     "status": "completed"
    },
    "tags": []
   },
   "outputs": [],
   "source": [
    "import math\n",
    "import matplotlib.pyplot as plt\n",
    "import numpy as np\n",
    "import shutil\n",
    "from time import time\n",
    "import torch\n",
    "import pandas as pd\n",
    "from copy import copy\n",
    "from glob import glob\n",
    "from PIL import Image, ImageFile\n",
    "from torch import nn\n",
    "from torch import optim\n",
    "from torch.autograd import Variable\n",
    "from torch.utils.data import random_split, DataLoader\n",
    "from torchvision import datasets, transforms, models\n",
    "from tqdm import tqdm\n",
    "import recgn_utils # utility script"
   ]
  },
  {
   "cell_type": "code",
   "execution_count": 2,
   "id": "b7a48918",
   "metadata": {
    "_cell_guid": "6485878c-1874-410b-bd00-9d50ea8df809",
    "_uuid": "e5bf95d9-09a8-4347-9fa5-4f1f3955a6ce",
    "collapsed": false,
    "execution": {
     "iopub.execute_input": "2021-09-10T08:26:49.842062Z",
     "iopub.status.busy": "2021-09-10T08:26:49.841464Z",
     "iopub.status.idle": "2021-09-10T08:26:49.846874Z",
     "shell.execute_reply": "2021-09-10T08:26:49.846410Z"
    },
    "jupyter": {
     "outputs_hidden": false
    },
    "papermill": {
     "duration": 0.063405,
     "end_time": "2021-09-10T08:26:49.847009",
     "exception": false,
     "start_time": "2021-09-10T08:26:49.783604",
     "status": "completed"
    },
    "tags": []
   },
   "outputs": [
    {
     "name": "stdout",
     "output_type": "stream",
     "text": [
      "Use a GPU. CUDA está disponível...\n"
     ]
    }
   ],
   "source": [
    "# Verifica se CUDA está disponível \n",
    "gpu_on = torch.cuda.is_available()\n",
    "\n",
    "if not gpu_on:\n",
    "    print('Use a CPU. CUDA não está disponível...')\n",
    "else:\n",
    "    print('Use a GPU. CUDA está disponível...')"
   ]
  },
  {
   "cell_type": "code",
   "execution_count": 3,
   "id": "f3a040d8",
   "metadata": {
    "_cell_guid": "06a02ee7-14dd-4aa0-b8f5-7fca8fbbd069",
    "_uuid": "78325f4c-ecc3-480c-80d3-30591888e81f",
    "collapsed": false,
    "execution": {
     "iopub.execute_input": "2021-09-10T08:26:49.868951Z",
     "iopub.status.busy": "2021-09-10T08:26:49.867528Z",
     "iopub.status.idle": "2021-09-10T08:26:49.869816Z",
     "shell.execute_reply": "2021-09-10T08:26:49.870256Z"
    },
    "jupyter": {
     "outputs_hidden": false
    },
    "papermill": {
     "duration": 0.01499,
     "end_time": "2021-09-10T08:26:49.870377",
     "exception": false,
     "start_time": "2021-09-10T08:26:49.855387",
     "status": "completed"
    },
    "tags": []
   },
   "outputs": [],
   "source": [
    "# Configure alguns parametros:\n",
    "\n",
    "# Path dos metadados e Modelo treinado com feature extraction, na Parte-2, \n",
    "# com 5 classes no enroll (11 imagens cada)\n",
    "checkpoint_path_5cl = \"../input/modelp2v8ep25/model_5cl_epoch_25_acc_80.0000_loss_0.7775.pth\"\n",
    "\n",
    "# Path dos metadados e Modelo treinado com feature extraction, na Parte-2, \n",
    "# com 20 classes no enroll (122 imagens cada)\n",
    "checkpoint_path_20cl = \"../input/modelp2v9ep25/model_20cl_epoch_25_acc_95.3846_loss_0.1295.pth\"\n",
    "\n",
    "batch_size = 64\n",
    "num_workers = 0"
   ]
  },
  {
   "cell_type": "code",
   "execution_count": 4,
   "id": "2b08d124",
   "metadata": {
    "execution": {
     "iopub.execute_input": "2021-09-10T08:26:49.893004Z",
     "iopub.status.busy": "2021-09-10T08:26:49.892206Z",
     "iopub.status.idle": "2021-09-10T08:26:49.894215Z",
     "shell.execute_reply": "2021-09-10T08:26:49.894604Z"
    },
    "papermill": {
     "duration": 0.015689,
     "end_time": "2021-09-10T08:26:49.894731",
     "exception": false,
     "start_time": "2021-09-10T08:26:49.879042",
     "status": "completed"
    },
    "tags": []
   },
   "outputs": [],
   "source": [
    "# Define valores mean e std para normalizar as imagens\n",
    "# TODO: Valores baseados no ImageNet. Idealmente calcular o mean e std do dataset original\n",
    "img_mean = np.array((0.485, 0.456, 0.406))\n",
    "img_std = np.array((0.229, 0.224, 0.225))\n",
    "\n",
    "test_transforms = transforms.Compose([transforms.CenterCrop(224),\n",
    "                                    transforms.ToTensor(),\n",
    "                                    transforms.Normalize(img_mean, \n",
    "                                                         img_std)])"
   ]
  },
  {
   "cell_type": "code",
   "execution_count": 5,
   "id": "6ffe44a6",
   "metadata": {
    "execution": {
     "iopub.execute_input": "2021-09-10T08:26:49.918161Z",
     "iopub.status.busy": "2021-09-10T08:26:49.917619Z",
     "iopub.status.idle": "2021-09-10T08:26:53.372511Z",
     "shell.execute_reply": "2021-09-10T08:26:53.371767Z"
    },
    "papermill": {
     "duration": 3.468788,
     "end_time": "2021-09-10T08:26:53.372633",
     "exception": false,
     "start_time": "2021-09-10T08:26:49.903845",
     "status": "completed"
    },
    "tags": []
   },
   "outputs": [
    {
     "name": "stdout",
     "output_type": "stream",
     "text": [
      "Numero de imagens de Unknowns: 17345\n",
      "Numero de imagens de Knowns: 1030\n"
     ]
    }
   ],
   "source": [
    "# Unknowns\n",
    "dogs_test_dir = '../input/dog-breed-recognition-v3/dogs/train'\n",
    "dogs_test_set = datasets.ImageFolder(dogs_test_dir, transform=test_transforms)\n",
    "dogs_test_loader = DataLoader(dogs_test_set, batch_size=batch_size, num_workers=num_workers, shuffle=True)\n",
    "print(f'Numero de imagens de Unknowns:', len(dogs_test_set))\n",
    "\n",
    "# Knowns\n",
    "enroll_test_dir = '../input/dog-breed-recognition-v3/dogs/recognition/test'\n",
    "enroll_test_set = datasets.ImageFolder(enroll_test_dir, transform=test_transforms)\n",
    "enroll_test_loader = DataLoader(enroll_test_set, batch_size=batch_size, num_workers=num_workers, shuffle=True)\n",
    "print(f'Numero de imagens de Knowns:', len(enroll_test_set))"
   ]
  },
  {
   "cell_type": "code",
   "execution_count": 6,
   "id": "d837da70",
   "metadata": {
    "_cell_guid": "9e067350-82cc-48ad-a0df-6fd281dd0259",
    "_uuid": "e6562bdc-a32a-453e-b5e3-7de108b42177",
    "collapsed": false,
    "execution": {
     "iopub.execute_input": "2021-09-10T08:26:53.397045Z",
     "iopub.status.busy": "2021-09-10T08:26:53.396511Z",
     "iopub.status.idle": "2021-09-10T08:26:53.400195Z",
     "shell.execute_reply": "2021-09-10T08:26:53.399779Z"
    },
    "jupyter": {
     "outputs_hidden": false
    },
    "papermill": {
     "duration": 0.018279,
     "end_time": "2021-09-10T08:26:53.400321",
     "exception": false,
     "start_time": "2021-09-10T08:26:53.382042",
     "status": "completed"
    },
    "tags": []
   },
   "outputs": [],
   "source": [
    "# Funcao que carrega modelo treinado com feature extraction, na Parte-2 \n",
    "\n",
    "def load_model(checkpoint_path, chpt_out_features):\n",
    "    chpt_dict = torch.load(checkpoint_path, map_location=torch.device('cpu'))\n",
    "    # Recria model class\n",
    "    model = models.resnet152(pretrained=True)\n",
    "    classifier = nn.Sequential(nn.Linear(model.fc.in_features, 512),\n",
    "                                  nn.ReLU(),\n",
    "                                  nn.Linear(512, 256),\n",
    "                                  nn.ReLU(),\n",
    "                                  nn.Dropout(0.5),\n",
    "                                  nn.Linear(256, chpt_out_features),\n",
    "                                  nn.LogSoftmax(dim=1))\n",
    "    model.fc = classifier\n",
    "    model.load_state_dict(chpt_dict['model_state_dict'])\n",
    "    return model"
   ]
  },
  {
   "cell_type": "code",
   "execution_count": 7,
   "id": "babb5939",
   "metadata": {
    "_cell_guid": "a9709847-e5b8-4cb7-a144-51ef69372c6a",
    "_uuid": "0f13d5b5-c738-492a-bd75-f71459650d57",
    "collapsed": false,
    "execution": {
     "iopub.execute_input": "2021-09-10T08:26:53.425950Z",
     "iopub.status.busy": "2021-09-10T08:26:53.425395Z",
     "iopub.status.idle": "2021-09-10T08:27:15.701064Z",
     "shell.execute_reply": "2021-09-10T08:27:15.701502Z"
    },
    "jupyter": {
     "outputs_hidden": false
    },
    "papermill": {
     "duration": 22.292383,
     "end_time": "2021-09-10T08:27:15.701839",
     "exception": false,
     "start_time": "2021-09-10T08:26:53.409456",
     "status": "completed"
    },
    "tags": []
   },
   "outputs": [
    {
     "name": "stderr",
     "output_type": "stream",
     "text": [
      "Downloading: \"https://download.pytorch.org/models/resnet152-b121ed2d.pth\" to /root/.cache/torch/hub/checkpoints/resnet152-b121ed2d.pth\n"
     ]
    },
    {
     "data": {
      "application/vnd.jupyter.widget-view+json": {
       "model_id": "766ffe9b91c24827b778773d458dfc0c",
       "version_major": 2,
       "version_minor": 0
      },
      "text/plain": [
       "  0%|          | 0.00/230M [00:00<?, ?B/s]"
      ]
     },
     "metadata": {},
     "output_type": "display_data"
    },
    {
     "name": "stdout",
     "output_type": "stream",
     "text": [
      "Camada FC do modelo treinado com 5 classes: Sequential(\n",
      "  (0): Linear(in_features=2048, out_features=512, bias=True)\n",
      "  (1): ReLU()\n",
      "  (2): Linear(in_features=512, out_features=256, bias=True)\n",
      "  (3): ReLU()\n",
      "  (4): Dropout(p=0.5, inplace=False)\n",
      "  (5): Linear(in_features=256, out_features=5, bias=True)\n",
      "  (6): LogSoftmax(dim=1)\n",
      ")\n",
      "\n",
      "Camada FC do modelo treinado com 20 classes: Sequential(\n",
      "  (0): Linear(in_features=2048, out_features=512, bias=True)\n",
      "  (1): ReLU()\n",
      "  (2): Linear(in_features=512, out_features=256, bias=True)\n",
      "  (3): ReLU()\n",
      "  (4): Dropout(p=0.5, inplace=False)\n",
      "  (5): Linear(in_features=256, out_features=20, bias=True)\n",
      "  (6): LogSoftmax(dim=1)\n",
      ")\n",
      "\n"
     ]
    }
   ],
   "source": [
    "# Carrega modelos treinados com feature extraction, na Parte-2 \n",
    "model_5cl = load_model(checkpoint_path_5cl, 5)\n",
    "print(f'Camada FC do modelo treinado com 5 classes: {model_5cl.fc}\\n')\n",
    "\n",
    "model_20cl = load_model(checkpoint_path_20cl, 20)\n",
    "print(f'Camada FC do modelo treinado com 20 classes: {model_20cl.fc}\\n')\n",
    "\n",
    "for param in model_5cl.parameters():\n",
    "    param.requires_grad = False\n",
    "for param in model_20cl.parameters():\n",
    "    param.requires_grad = False\n",
    "\n",
    "if gpu_on:\n",
    "    model_5cl.cuda()\n",
    "    model_20cl.cuda()\n",
    "\n",
    "# Define loss function (categorical cross-entropy)\n",
    "# https://pytorch.org/docs/stable/generated/torch.nn.NLLLoss.html\n",
    "criterion = nn.NLLLoss()"
   ]
  },
  {
   "cell_type": "code",
   "execution_count": 8,
   "id": "a44ab568",
   "metadata": {
    "_cell_guid": "30379eeb-e48e-4e08-97f4-546755b681c7",
    "_uuid": "583b4f21-98cd-4a27-886a-e493c5a585da",
    "collapsed": false,
    "execution": {
     "iopub.execute_input": "2021-09-10T08:27:15.732089Z",
     "iopub.status.busy": "2021-09-10T08:27:15.730952Z",
     "iopub.status.idle": "2021-09-10T08:27:29.217560Z",
     "shell.execute_reply": "2021-09-10T08:27:29.218097Z"
    },
    "jupyter": {
     "outputs_hidden": false
    },
    "papermill": {
     "duration": 13.505492,
     "end_time": "2021-09-10T08:27:29.218266",
     "exception": false,
     "start_time": "2021-09-10T08:27:15.712774",
     "status": "completed"
    },
    "tags": []
   },
   "outputs": [
    {
     "name": "stderr",
     "output_type": "stream",
     "text": [
      "Testando Modelo:: 100%|██████████| 17/17 [00:13<00:00,  1.29it/s]"
     ]
    },
    {
     "name": "stdout",
     "output_type": "stream",
     "text": [
      "Test Loss: 0.130886\n",
      "Acuracia do Teste: 95% (982/1030)\n"
     ]
    },
    {
     "name": "stderr",
     "output_type": "stream",
     "text": [
      "\n"
     ]
    },
    {
     "data": {
      "text/plain": [
       "Text(0.5, 1.0, 'Max outputs')"
      ]
     },
     "execution_count": 8,
     "metadata": {},
     "output_type": "execute_result"
    },
    {
     "data": {
      "image/png": "[encoded data removed]",
      "text/plain": [
       "<Figure size 432x288 with 1 Axes>"
      ]
     },
     "metadata": {
      "needs_background": "light"
     },
     "output_type": "display_data"
    }
   ],
   "source": [
    "# Testa modelo treinado com loader de imagens de teste do tipo KNOWNS.\n",
    "# TODO: montar loader com as 5 classes e fazer teste de KNOWNS para o model_5cl tambem, \n",
    "# cf. grafico em 'model_5cl_epoch_25_acc_80.0000_loss_0.7775.ipynb'.\n",
    "\n",
    "prob_pass, prob_fail = recgn_utils.test_model(model_20cl, criterion, enroll_test_loader, gpu_on)\n",
    "\n",
    "# Plota distribuição de probabilidades nos casos de pass e fail de teste do tipo KNOWNS\n",
    "# Probabilidade = número na saída mais alta da rede após o teste\n",
    "\n",
    "plt.hist(prob_fail, bins = np.arange(0,1.05,0.05)) \n",
    "plt.hist(prob_pass, bins = np.arange(0,1.05,0.05), alpha = 0.7) \n",
    "labels= [\"20cl_Fail\",\"20cl_Pass\"]\n",
    "plt.legend(labels)\n",
    "plt.xlabel('Probability')\n",
    "plt.ylabel('Frequency')\n",
    "plt.title('Max outputs')"
   ]
  },
  {
   "cell_type": "code",
   "execution_count": 9,
   "id": "c95622d9",
   "metadata": {
    "execution": {
     "iopub.execute_input": "2021-09-10T08:27:29.261806Z",
     "iopub.status.busy": "2021-09-10T08:27:29.260898Z",
     "iopub.status.idle": "2021-09-10T08:33:26.433023Z",
     "shell.execute_reply": "2021-09-10T08:33:26.432531Z"
    },
    "papermill": {
     "duration": 357.196347,
     "end_time": "2021-09-10T08:33:26.433145",
     "exception": false,
     "start_time": "2021-09-10T08:27:29.236798",
     "status": "completed"
    },
    "tags": []
   },
   "outputs": [
    {
     "name": "stderr",
     "output_type": "stream",
     "text": [
      "Testando Modelo:: 100%|██████████| 272/272 [03:34<00:00,  1.27it/s]\n",
      "Testando Modelo:: 100%|██████████| 272/272 [02:22<00:00,  1.91it/s]\n"
     ]
    }
   ],
   "source": [
    "# Testa modelo da parte 2, presentando todos os Unknowns, ie cachorros de teste da parte 1\n",
    "# Retorna distribuicao de probabilidades em todos os testes com Unknowns,\n",
    "# onde a probailidade é o número na saída mais alta da rede após o teste\n",
    "# Obs: Aqui nao interessa comparativo entre classe predita e classe esperada, mas apenas a probabilidade final\n",
    "\n",
    "prob_unknown_5cl = recgn_utils.test_unknowns(dogs_test_loader, model_5cl, criterion, gpu_on)\n",
    "prob_unknown_20cl = recgn_utils.test_unknowns(dogs_test_loader, model_20cl, criterion, gpu_on)"
   ]
  },
  {
   "cell_type": "code",
   "execution_count": 10,
   "id": "ebef279e",
   "metadata": {
    "execution": {
     "iopub.execute_input": "2021-09-10T08:33:26.786150Z",
     "iopub.status.busy": "2021-09-10T08:33:26.769024Z",
     "iopub.status.idle": "2021-09-10T08:33:27.275351Z",
     "shell.execute_reply": "2021-09-10T08:33:27.274506Z"
    },
    "papermill": {
     "duration": 0.680595,
     "end_time": "2021-09-10T08:33:27.275489",
     "exception": false,
     "start_time": "2021-09-10T08:33:26.594894",
     "status": "completed"
    },
    "tags": []
   },
   "outputs": [
    {
     "data": {
      "text/plain": [
       "Text(0.5, 1.0, 'Max outputs')"
      ]
     },
     "execution_count": 10,
     "metadata": {},
     "output_type": "execute_result"
    },
    {
     "data": {
      "image/png": "[encoded data removed]",
      "text/plain": [
       "<Figure size 432x288 with 1 Axes>"
      ]
     },
     "metadata": {
      "needs_background": "light"
     },
     "output_type": "display_data"
    }
   ],
   "source": [
    "# Plota distribuição de probabilidades nos testes do tipo UNKNOWNS\n",
    "# Probabilidade = número na saída mais alta da rede após o teste\n",
    "\n",
    "plt.hist(prob_unknown_5cl, bins = np.arange(0,1.05,0.05)) \n",
    "plt.hist(prob_unknown_20cl, bins = np.arange(0,1.05,0.05), alpha = 0.7) \n",
    "labels= [\"5cl_Unknowns\",\"20cl_Unknowns\"]\n",
    "plt.legend(labels)\n",
    "plt.xlabel('Probability')\n",
    "plt.ylabel('Frequency')\n",
    "plt.title('Max outputs')"
   ]
  },
  {
   "cell_type": "code",
   "execution_count": 11,
   "id": "416f220f",
   "metadata": {
    "execution": {
     "iopub.execute_input": "2021-09-10T08:33:27.609498Z",
     "iopub.status.busy": "2021-09-10T08:33:27.608927Z",
     "iopub.status.idle": "2021-09-10T08:33:27.623411Z",
     "shell.execute_reply": "2021-09-10T08:33:27.622789Z"
    },
    "papermill": {
     "duration": 0.183066,
     "end_time": "2021-09-10T08:33:27.623561",
     "exception": false,
     "start_time": "2021-09-10T08:33:27.440495",
     "status": "completed"
    },
    "tags": []
   },
   "outputs": [
    {
     "name": "stdout",
     "output_type": "stream",
     "text": [
      "Quartis de uma distribuição de probabilidades - saida da rede apresentada para Unknowns.\n",
      "Já nos testes de Knowns, a rede apresentou 83% de acuracia (para 5 classes de enroll).\n",
      "Q1 = 42.719412%\n",
      "Q2 = 53.323096%\n",
      "Q3 = 67.570972%\n",
      "\n",
      "Quartis de uma distribuição de probabilidades - saida da rede apresentada para Unknowns.\n",
      "Já nos testes de Knowns, a rede apresentou 95% de acuracia (para 20 classes de enroll).\n",
      "Q1 = 51.361626%\n",
      "Q2 = 73.477399%\n",
      "Q3 = 92.878276%\n",
      "\n"
     ]
    }
   ],
   "source": [
    "def calc_quartiles(prob_list):\n",
    "    df_probs = pd.DataFrame(np.array(prob_list))\n",
    "    q1 = df_probs.quantile(0.25)[0]\n",
    "    q2 = df_probs.quantile(0.5)[0]\n",
    "    q3 = df_probs.quantile(0.75)[0]\n",
    "    print(f'Q1 = {q1*100:4f}%\\nQ2 = {q2*100:4f}%\\nQ3 = {q3*100:4f}%\\n')\n",
    "\n",
    "print('Quartis de uma distribuição de probabilidades - saida da rede apresentada para Unknowns.\\nJá nos testes de Knowns, a rede apresentou 83% de acuracia (para 5 classes de enroll).')\n",
    "calc_quartiles(prob_unknown_5cl)\n",
    "print('Quartis de uma distribuição de probabilidades - saida da rede apresentada para Unknowns.\\nJá nos testes de Knowns, a rede apresentou 95% de acuracia (para 20 classes de enroll).')\n",
    "calc_quartiles(prob_unknown_20cl)"
   ]
  }
 ],
 "metadata": {
  "kernelspec": {
   "display_name": "Python 3",
   "language": "python",
   "name": "python3"
  },
  "language_info": {
   "codemirror_mode": {
    "name": "ipython",
    "version": 3
   },
   "file_extension": ".py",
   "mimetype": "text/x-python",
   "name": "python",
   "nbconvert_exporter": "python",
   "pygments_lexer": "ipython3",
   "version": "3.7.10"
  },
  "papermill": {
   "default_parameters": {},
   "duration": 410.690652,
   "end_time": "2021-09-10T08:33:29.325015",
   "environment_variables": {},
   "exception": null,
   "input_path": "__notebook__.ipynb",
   "output_path": "__notebook__.ipynb",
   "parameters": {},
   "start_time": "2021-09-10T08:26:38.634363",
   "version": "2.3.3"
  },
  "widgets": {
   "application/vnd.jupyter.widget-state+json": {
    "state": {
     "0c2b298a0a1e4862803e30f5b808da98": {
      "model_module": "@jupyter-widgets/controls",
      "model_module_version": "1.5.0",
      "model_name": "DescriptionStyleModel",
      "state": {
       "_model_module": "@jupyter-widgets/controls",
       "_model_module_version": "1.5.0",
       "_model_name": "DescriptionStyleModel",
       "_view_count": null,
       "_view_module": "@jupyter-widgets/base",
       "_view_module_version": "1.2.0",
       "_view_name": "StyleView",
       "description_width": ""
      }
     },
     "0f578f742ef844bb84300b7afd798ef8": {
      "model_module": "@jupyter-widgets/controls",
      "model_module_version": "1.5.0",
      "model_name": "HTMLModel",
      "state": {
       "_dom_classes": [],
       "_model_module": "@jupyter-widgets/controls",
       "_model_module_version": "1.5.0",
       "_model_name": "HTMLModel",
       "_view_count": null,
       "_view_module": "@jupyter-widgets/controls",
       "_view_module_version": "1.5.0",
       "_view_name": "HTMLView",
       "description": "",
       "description_tooltip": null,
       "layout": "IPY_MODEL_7638789d781f4d36b123bd5617e1b7d9",
       "placeholder": "​",
       "style": "IPY_MODEL_0c2b298a0a1e4862803e30f5b808da98",
       "value": "100%"
      }
     },
     "2164877518bc40f3a5fe0e1ec84393bd": {
      "model_module": "@jupyter-widgets/base",
      "model_module_version": "1.2.0",
      "model_name": "LayoutModel",
      "state": {
       "_model_module": "@jupyter-widgets/base",
       "_model_module_version": "1.2.0",
       "_model_name": "LayoutModel",
       "_view_count": null,
       "_view_module": "@jupyter-widgets/base",
       "_view_module_version": "1.2.0",
       "_view_name": "LayoutView",
       "align_content": null,
       "align_items": null,
       "align_self": null,
       "border": null,
       "bottom": null,
       "display": null,
       "flex": null,
       "flex_flow": null,
       "grid_area": null,
       "grid_auto_columns": null,
       "grid_auto_flow": null,
       "grid_auto_rows": null,
       "grid_column": null,
       "grid_gap": null,
       "grid_row": null,
       "grid_template_areas": null,
       "grid_template_columns": null,
       "grid_template_rows": null,
       "height": null,
       "justify_content": null,
       "justify_items": null,
       "left": null,
       "margin": null,
       "max_height": null,
       "max_width": null,
       "min_height": null,
       "min_width": null,
       "object_fit": null,
       "object_position": null,
       "order": null,
       "overflow": null,
       "overflow_x": null,
       "overflow_y": null,
       "padding": null,
       "right": null,
       "top": null,
       "visibility": null,
       "width": null
      }
     },
     "24b6e268f48a4676a4d1cf9dea057a6d": {
      "model_module": "@jupyter-widgets/controls",
      "model_module_version": "1.5.0",
      "model_name": "DescriptionStyleModel",
      "state": {
       "_model_module": "@jupyter-widgets/controls",
       "_model_module_version": "1.5.0",
       "_model_name": "DescriptionStyleModel",
       "_view_count": null,
       "_view_module": "@jupyter-widgets/base",
       "_view_module_version": "1.2.0",
       "_view_name": "StyleView",
       "description_width": ""
      }
     },
     "297ffcc028ae45ceaaf5098540ede932": {
      "model_module": "@jupyter-widgets/controls",
      "model_module_version": "1.5.0",
      "model_name": "HTMLModel",
      "state": {
       "_dom_classes": [],
       "_model_module": "@jupyter-widgets/controls",
       "_model_module_version": "1.5.0",
       "_model_name": "HTMLModel",
       "_view_count": null,
       "_view_module": "@jupyter-widgets/controls",
       "_view_module_version": "1.5.0",
       "_view_name": "HTMLView",
       "description": "",
       "description_tooltip": null,
       "layout": "IPY_MODEL_2164877518bc40f3a5fe0e1ec84393bd",
       "placeholder": "​",
       "style": "IPY_MODEL_24b6e268f48a4676a4d1cf9dea057a6d",
       "value": " 230M/230M [00:04&lt;00:00, 52.9MB/s]"
      }
     },
     "303dc66fb8ea4272bc4fb301957ee708": {
      "model_module": "@jupyter-widgets/controls",
      "model_module_version": "1.5.0",
      "model_name": "FloatProgressModel",
      "state": {
       "_dom_classes": [],
       "_model_module": "@jupyter-widgets/controls",
       "_model_module_version": "1.5.0",
       "_model_name": "FloatProgressModel",
       "_view_count": null,
       "_view_module": "@jupyter-widgets/controls",
       "_view_module_version": "1.5.0",
       "_view_name": "ProgressView",
       "bar_style": "success",
       "description": "",
       "description_tooltip": null,
       "layout": "IPY_MODEL_63bd9ef4d40f48039389387dd4fb568a",
       "max": 241530880.0,
       "min": 0.0,
       "orientation": "horizontal",
       "style": "IPY_MODEL_42202887d17f43afadce702102748ef6",
       "value": 241530880.0
      }
     },
     "42202887d17f43afadce702102748ef6": {
      "model_module": "@jupyter-widgets/controls",
      "model_module_version": "1.5.0",
      "model_name": "ProgressStyleModel",
      "state": {
       "_model_module": "@jupyter-widgets/controls",
       "_model_module_version": "1.5.0",
       "_model_name": "ProgressStyleModel",
       "_view_count": null,
       "_view_module": "@jupyter-widgets/base",
       "_view_module_version": "1.2.0",
       "_view_name": "StyleView",
       "bar_color": null,
       "description_width": ""
      }
     },
     "63bd9ef4d40f48039389387dd4fb568a": {
      "model_module": "@jupyter-widgets/base",
      "model_module_version": "1.2.0",
      "model_name": "LayoutModel",
      "state": {
       "_model_module": "@jupyter-widgets/base",
       "_model_module_version": "1.2.0",
       "_model_name": "LayoutModel",
       "_view_count": null,
       "_view_module": "@jupyter-widgets/base",
       "_view_module_version": "1.2.0",
       "_view_name": "LayoutView",
       "align_content": null,
       "align_items": null,
       "align_self": null,
       "border": null,
       "bottom": null,
       "display": null,
       "flex": null,
       "flex_flow": null,
       "grid_area": null,
       "grid_auto_columns": null,
       "grid_auto_flow": null,
       "grid_auto_rows": null,
       "grid_column": null,
       "grid_gap": null,
       "grid_row": null,
       "grid_template_areas": null,
       "grid_template_columns": null,
       "grid_template_rows": null,
       "height": null,
       "justify_content": null,
       "justify_items": null,
       "left": null,
       "margin": null,
       "max_height": null,
       "max_width": null,
       "min_height": null,
       "min_width": null,
       "object_fit": null,
       "object_position": null,
       "order": null,
       "overflow": null,
       "overflow_x": null,
       "overflow_y": null,
       "padding": null,
       "right": null,
       "top": null,
       "visibility": null,
       "width": null
      }
     },
     "7638789d781f4d36b123bd5617e1b7d9": {
      "model_module": "@jupyter-widgets/base",
      "model_module_version": "1.2.0",
      "model_name": "LayoutModel",
      "state": {
       "_model_module": "@jupyter-widgets/base",
       "_model_module_version": "1.2.0",
       "_model_name": "LayoutModel",
       "_view_count": null,
       "_view_module": "@jupyter-widgets/base",
       "_view_module_version": "1.2.0",
       "_view_name": "LayoutView",
       "align_content": null,
       "align_items": null,
       "align_self": null,
       "border": null,
       "bottom": null,
       "display": null,
       "flex": null,
       "flex_flow": null,
       "grid_area": null,
       "grid_auto_columns": null,
       "grid_auto_flow": null,
       "grid_auto_rows": null,
       "grid_column": null,
       "grid_gap": null,
       "grid_row": null,
       "grid_template_areas": null,
       "grid_template_columns": null,
       "grid_template_rows": null,
       "height": null,
       "justify_content": null,
       "justify_items": null,
       "left": null,
       "margin": null,
       "max_height": null,
       "max_width": null,
       "min_height": null,
       "min_width": null,
       "object_fit": null,
       "object_position": null,
       "order": null,
       "overflow": null,
       "overflow_x": null,
       "overflow_y": null,
       "padding": null,
       "right": null,
       "top": null,
       "visibility": null,
       "width": null
      }
     },
     "766ffe9b91c24827b778773d458dfc0c": {
      "model_module": "@jupyter-widgets/controls",
      "model_module_version": "1.5.0",
      "model_name": "HBoxModel",
      "state": {
       "_dom_classes": [],
       "_model_module": "@jupyter-widgets/controls",
       "_model_module_version": "1.5.0",
       "_model_name": "HBoxModel",
       "_view_count": null,
       "_view_module": "@jupyter-widgets/controls",
       "_view_module_version": "1.5.0",
       "_view_name": "HBoxView",
       "box_style": "",
       "children": [
        "IPY_MODEL_0f578f742ef844bb84300b7afd798ef8",
        "IPY_MODEL_303dc66fb8ea4272bc4fb301957ee708",
        "IPY_MODEL_297ffcc028ae45ceaaf5098540ede932"
       ],
       "layout": "IPY_MODEL_972def6c6668437090530985b34676ea"
      }
     },
     "972def6c6668437090530985b34676ea": {
      "model_module": "@jupyter-widgets/base",
      "model_module_version": "1.2.0",
      "model_name": "LayoutModel",
      "state": {
       "_model_module": "@jupyter-widgets/base",
       "_model_module_version": "1.2.0",
       "_model_name": "LayoutModel",
       "_view_count": null,
       "_view_module": "@jupyter-widgets/base",
       "_view_module_version": "1.2.0",
       "_view_name": "LayoutView",
       "align_content": null,
       "align_items": null,
       "align_self": null,
       "border": null,
       "bottom": null,
       "display": null,
       "flex": null,
       "flex_flow": null,
       "grid_area": null,
       "grid_auto_columns": null,
       "grid_auto_flow": null,
       "grid_auto_rows": null,
       "grid_column": null,
       "grid_gap": null,
       "grid_row": null,
       "grid_template_areas": null,
       "grid_template_columns": null,
       "grid_template_rows": null,
       "height": null,
       "justify_content": null,
       "justify_items": null,
       "left": null,
       "margin": null,
       "max_height": null,
       "max_width": null,
       "min_height": null,
       "min_width": null,
       "object_fit": null,
       "object_position": null,
       "order": null,
       "overflow": null,
       "overflow_x": null,
       "overflow_y": null,
       "padding": null,
       "right": null,
       "top": null,
       "visibility": null,
       "width": null
      }
     }
    },
    "version_major": 2,
    "version_minor": 0
   }
  }
 },
 "nbformat": 4,
 "nbformat_minor": 5
}
